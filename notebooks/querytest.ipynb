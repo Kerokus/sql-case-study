{
 "cells": [
  {
   "cell_type": "code",
   "execution_count": null,
   "metadata": {},
   "outputs": [],
   "source": [
    "import pandas as pd\n",
    "import psycopg2 as pg2"
   ]
  },
  {
   "cell_type": "code",
   "execution_count": 30,
   "metadata": {},
   "outputs": [],
   "source": [
    "conn = pg2.connect(\n",
    "    dbname='adventureworks',\n",
    "    user='postgres',\n",
    "    password='galvanize',\n",
    "    host='localhost',\n",
    "    port='5558'\n",
    ")"
   ]
  },
  {
   "cell_type": "code",
   "execution_count": 31,
   "metadata": {},
   "outputs": [
    {
     "name": "stderr",
     "output_type": "stream",
     "text": [
      "C:\\Users\\darks\\AppData\\Local\\Temp\\ipykernel_9240\\3911536486.py:27: UserWarning: pandas only supports SQLAlchemy connectable (engine/connection) or database string URI or sqlite3 DBAPI2 connection. Other DBAPI2 objects are not tested. Please consider using SQLAlchemy.\n",
      "  product_df = pd.read_sql(query, conn)\n"
     ]
    }
   ],
   "source": [
    "query = \"\"\"\n",
    "SELECT\n",
    "    CASE \n",
    "        WHEN Product.ListPrice BETWEEN 0 AND 50 THEN '0 - 50'\n",
    "        WHEN Product.ListPrice BETWEEN 50 AND 100 THEN '50 - 100'\n",
    "        WHEN Product.ListPrice BETWEEN 100 AND 200 THEN '100 - 200'\n",
    "        WHEN Product.ListPrice BETWEEN 200 AND 500 THEN '200 - 500'\n",
    "        WHEN Product.ListPrice BETWEEN 500 AND 1000 THEN '500 - 1000'\n",
    "        ELSE '1000+'\n",
    "    END AS \"Price Bracket\",\n",
    "    COUNT(Product.ProductID) AS \"Number of Products\"\n",
    "FROM\n",
    "    Production.Product AS Product\n",
    "GROUP BY\n",
    "    CASE \n",
    "        WHEN Product.ListPrice BETWEEN 0 AND 50 THEN '0 - 50'\n",
    "        WHEN Product.ListPrice BETWEEN 50 AND 100 THEN '50 - 100'\n",
    "        WHEN Product.ListPrice BETWEEN 100 AND 200 THEN '100 - 200'\n",
    "        WHEN Product.ListPrice BETWEEN 200 AND 500 THEN '200 - 500'\n",
    "        WHEN Product.ListPrice BETWEEN 500 AND 1000 THEN '500 - 1000'\n",
    "        ELSE '1000+'\n",
    "    END\n",
    "ORDER BY\n",
    "    \"Price Bracket\";\n",
    "\"\"\"\n",
    "\n",
    "product_df = pd.read_sql(query, conn)\n",
    "\n",
    "conn.close()"
   ]
  },
  {
   "cell_type": "code",
   "execution_count": 29,
   "metadata": {},
   "outputs": [
    {
     "data": {
      "text/html": [
       "<div>\n",
       "<style scoped>\n",
       "    .dataframe tbody tr th:only-of-type {\n",
       "        vertical-align: middle;\n",
       "    }\n",
       "\n",
       "    .dataframe tbody tr th {\n",
       "        vertical-align: top;\n",
       "    }\n",
       "\n",
       "    .dataframe thead th {\n",
       "        text-align: right;\n",
       "    }\n",
       "</style>\n",
       "<table border=\"1\" class=\"dataframe\">\n",
       "  <thead>\n",
       "    <tr style=\"text-align: right;\">\n",
       "      <th></th>\n",
       "      <th>Price Bracket</th>\n",
       "      <th>Number of Products</th>\n",
       "    </tr>\n",
       "  </thead>\n",
       "  <tbody>\n",
       "    <tr>\n",
       "      <th>0</th>\n",
       "      <td>0 - 50</td>\n",
       "      <td>253</td>\n",
       "    </tr>\n",
       "    <tr>\n",
       "      <th>1</th>\n",
       "      <td>1000+</td>\n",
       "      <td>86</td>\n",
       "    </tr>\n",
       "    <tr>\n",
       "      <th>2</th>\n",
       "      <td>100 - 200</td>\n",
       "      <td>25</td>\n",
       "    </tr>\n",
       "    <tr>\n",
       "      <th>3</th>\n",
       "      <td>200 - 500</td>\n",
       "      <td>53</td>\n",
       "    </tr>\n",
       "    <tr>\n",
       "      <th>4</th>\n",
       "      <td>500 - 1000</td>\n",
       "      <td>50</td>\n",
       "    </tr>\n",
       "    <tr>\n",
       "      <th>5</th>\n",
       "      <td>50 - 100</td>\n",
       "      <td>37</td>\n",
       "    </tr>\n",
       "  </tbody>\n",
       "</table>\n",
       "</div>"
      ],
      "text/plain": [
       "  Price Bracket  Number of Products\n",
       "0        0 - 50                 253\n",
       "1         1000+                  86\n",
       "2     100 - 200                  25\n",
       "3     200 - 500                  53\n",
       "4    500 - 1000                  50\n",
       "5      50 - 100                  37"
      ]
     },
     "execution_count": 29,
     "metadata": {},
     "output_type": "execute_result"
    }
   ],
   "source": [
    "product_df"
   ]
  }
 ],
 "metadata": {
  "kernelspec": {
   "display_name": "Python 3",
   "language": "python",
   "name": "python3"
  },
  "language_info": {
   "codemirror_mode": {
    "name": "ipython",
    "version": 3
   },
   "file_extension": ".py",
   "mimetype": "text/x-python",
   "name": "python",
   "nbconvert_exporter": "python",
   "pygments_lexer": "ipython3",
   "version": "3.12.3"
  }
 },
 "nbformat": 4,
 "nbformat_minor": 2
}
